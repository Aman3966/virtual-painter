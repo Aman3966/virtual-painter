{
 "cells": [
  {
   "cell_type": "code",
   "execution_count": 5,
   "metadata": {},
   "outputs": [],
   "source": [
    "import cv2\n",
    "import mediapipe as mp\n",
    "import time"
   ]
  },
  {
   "cell_type": "code",
   "execution_count": 6,
   "metadata": {},
   "outputs": [],
   "source": [
    "class  handDetector():\n",
    "    def __init__(self,mode = False , maxHands =2, detectionCon =0.5 ,trackCon =0.5):\n",
    "        self.mode = mode\n",
    "        self.maxHands = maxHands\n",
    "        self.detectionCon = detectionCon\n",
    "        self.trackCon = trackCon\n",
    "        \n",
    "        self.mpHands = mp.solutions.hands\n",
    "        self.hands = self.mpHands.Hands(self.mode,self.maxHands,self.detectionCon,self.trackCon)\n",
    "        self.mpDraw = mp.solutions.drawing_utils\n",
    "        self.tipIds=[4,8,12,16,20]\n",
    "        \n",
    "    def findHands(self , img ,draw = True):\n",
    "        imgRGB = cv2.cvtColor(img,cv2.COLOR_BGR2RGB)\n",
    "        self.results = self.hands.process(imgRGB)\n",
    "        \n",
    "        if self.results.multi_hand_landmarks:\n",
    "            for handLms in self.results.multi_hand_landmarks:\n",
    "                if draw:\n",
    "                    self.mpDraw.draw_landmarks(img,handLms,self.mpHands.HAND_CONNECTIONS)\n",
    "        return img\n",
    "    \n",
    "    def findPositions(self,img,handNo =0,draw =True):\n",
    "        self.lmList =[]\n",
    "        if self.results.multi_hand_landmarks:\n",
    "            myHand = self.results.multi_hand_landmarks[handNo]\n",
    "            for id,lm in enumerate(myHand.landmark):\n",
    "                    h,w,c = img.shape\n",
    "                    cx,cy = int(lm.x*w),int(lm.y*h)\n",
    "                    self.lmList.append([id,cx,cy])\n",
    "                    if draw:\n",
    "                        self.mpDraw.draw_landmarks(img,myHand,self.mpHands.HAND_CONNECTIONS) \n",
    "        return self.lmList \n",
    "    \n",
    "    def fingersUp(self):\n",
    "        fingers =[]\n",
    "        if self.lmList[self.tipIds[0]][1] > self.lmList[self.tipIds[0]-1][1]:\n",
    "            fingers.append(1)\n",
    "        else:\n",
    "            fingers.append(0)\n",
    "        \n",
    "        for id in range(1,5):\n",
    "            if self.lmList[self.tipIds[id]][2]< self.lmList[self.tipIds[id]-2][2]:\n",
    "                fingers.append(1)\n",
    "            else:\n",
    "                fingers.append(0)\n",
    "        return fingers\n",
    "        "
   ]
  },
  {
   "cell_type": "code",
   "execution_count": 7,
   "metadata": {},
   "outputs": [],
   "source": [
    "def main():\n",
    "    pTime =0\n",
    "    cTime =0\n",
    "    cap = cv2.VideoCapture(0)\n",
    "    detector = handDetector()\n",
    "    while True:\n",
    "        success,img = cap.read()\n",
    "        detector.findHands(img)\n",
    "        lmList = detector.findPositions(img) # contains coordiantes of all points\n",
    "        cTime = time.time()\n",
    "        fps = 1/(cTime -pTime)\n",
    "        pTime =cTime\n",
    "        cv2.putText(img,str(int(fps)) , (10,70),cv2.FONT_HERSHEY_PLAIN, 3,(255,0,255),3) # printing the fps\n",
    "        cv2.imshow(\"Image\",img)\n",
    "        k = cv2.waitKey(1)\n",
    "        if(k==27):\n",
    "            break\n",
    "    cap.release()\n",
    "    cv2.destroyAllWindows()"
   ]
  },
  {
   "cell_type": "code",
   "execution_count": 8,
   "metadata": {},
   "outputs": [],
   "source": [
    "if __name__==\"__main__\":\n",
    "    main()"
   ]
  },
  {
   "cell_type": "code",
   "execution_count": null,
   "metadata": {},
   "outputs": [],
   "source": []
  }
 ],
 "metadata": {
  "kernelspec": {
   "display_name": "Python 3",
   "language": "python",
   "name": "python3"
  },
  "language_info": {
   "codemirror_mode": {
    "name": "ipython",
    "version": 3
   },
   "file_extension": ".py",
   "mimetype": "text/x-python",
   "name": "python",
   "nbconvert_exporter": "python",
   "pygments_lexer": "ipython3",
   "version": "3.7.6"
  }
 },
 "nbformat": 4,
 "nbformat_minor": 4
}
