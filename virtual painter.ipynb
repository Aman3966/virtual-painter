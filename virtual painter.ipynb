{
 "cells": [
  {
   "cell_type": "code",
   "execution_count": 1,
   "metadata": {},
   "outputs": [],
   "source": [
    "import cv2\n",
    "import numpy as np\n",
    "import time\n",
    "import os\n",
    "import ipynb.fs.full.handTrackingModule  as htm"
   ]
  },
  {
   "cell_type": "code",
   "execution_count": 2,
   "metadata": {},
   "outputs": [
    {
     "name": "stdout",
     "output_type": "stream",
     "text": [
      "4\n"
     ]
    }
   ],
   "source": [
    "folderpath =\"header\"\n",
    "myList = os.listdir(folderpath)\n",
    "overlayList =[]\n",
    "for impath in myList:\n",
    "    image = cv2.imread(f'{folderpath}/{impath}')\n",
    "    overlayList.append(image)\n",
    "print(len(overlayList))\n",
    "header = overlayList[0]"
   ]
  },
  {
   "cell_type": "code",
   "execution_count": 3,
   "metadata": {},
   "outputs": [],
   "source": [
    "cap = cv2.VideoCapture(0)\n",
    "cap.set(3,1280)\n",
    "cap.set(4,720)\n",
    "detector = htm.handDetector(detectionCon=0.6)\n",
    "imgCanvas = np.zeros((720,1280,3),np.uint8)\n",
    "xp,yp =0,0\n",
    "drawColor =(255,0,0)\n",
    "while True:\n",
    "    # 1 Import image\n",
    "    success,img = cap.read()\n",
    "    img = cv2.flip(img,1)\n",
    "    \n",
    "    # Find Hand landmarks\n",
    "    img = detector.findHands(img)\n",
    "    lmList = detector.findPositions(img,draw=False)\n",
    "    \n",
    "    if len(lmList)!=0:\n",
    "        \n",
    "        # tp of index and middle finger\n",
    "        x1,y1 = lmList[8][1:]\n",
    "        x2,y2 = lmList[12][1:] \n",
    "        \n",
    "        # chk which fingers are up\n",
    "        fingers = detector.fingersUp()\n",
    "        # print(fingers)\n",
    "        \n",
    "        #  if selection mode - two fingers are up\n",
    "        if fingers[1] and fingers[2]:\n",
    "            xp,yp=0,0\n",
    "            if y1<125:\n",
    "                if 0<x1<300:\n",
    "                    header = overlayList[0]\n",
    "                    drawColor = (255,0,0)          \n",
    "                elif 320<x1<620:\n",
    "                    header = overlayList[1]\n",
    "                    drawColor = (0,0,255)\n",
    "                elif 640<x1<940:\n",
    "                    header = overlayList[2]\n",
    "                    drawColor = (0,255,0)\n",
    "                elif 960<x1<1260:\n",
    "                    header = overlayList[3]\n",
    "                    drawColor = (0,0,0)\n",
    "            cv2.circle(img,((x1+x2)//2,(y1+y2)//2),20,drawColor,cv2.FILLED)                    \n",
    "        # if Drawing mode - Index finger is up\n",
    "        if fingers[1] and (fingers[2]==False):\n",
    "            cv2.circle(img,(x1,y1),10,drawColor,cv2.FILLED)\n",
    "            if xp==0 and yp==0:\n",
    "                xp,yp=x1,y1\n",
    "            if drawColor ==(0,0,0):\n",
    "                cv2.line(imgCanvas,(xp,yp),(x1,y1),drawColor,50)\n",
    "            else:\n",
    "                cv2.line(img,(xp,yp),(x1,y1),drawColor,15)\n",
    "                cv2.line(imgCanvas,(xp,yp),(x1,y1),drawColor,15)\n",
    "            xp,yp=x1,y1\n",
    "            #print(\"Drawing mode\")\n",
    "    imgGray = cv2.cvtColor(imgCanvas,cv2.COLOR_BGR2GRAY)\n",
    "    _,imgInv =cv2.threshold(imgGray,50,255,cv2.THRESH_BINARY_INV)\n",
    "    imgInv =cv2.cvtColor(imgInv,cv2.COLOR_GRAY2BGR)\n",
    "    img = cv2.bitwise_and(img,imgInv)\n",
    "    img = cv2.bitwise_or(img,imgCanvas)\n",
    "    # Setting the header\n",
    "    h,w,c = header.shape\n",
    "    img[0:h,0:w]=header\n",
    "    #img = cv2.addWeighted(img,0.5,imgCanvas,0.5,0)\n",
    "    cv2.imshow(\"image\",img)\n",
    "    #cv2.imshow(\"canvas\",imgCanvas)\n",
    "    k =cv2.waitKey(1)\n",
    "    if k==27:\n",
    "        break;\n",
    "cap.release()\n",
    "cv2.destroyAllWindows()"
   ]
  },
  {
   "cell_type": "code",
   "execution_count": null,
   "metadata": {},
   "outputs": [],
   "source": []
  },
  {
   "cell_type": "code",
   "execution_count": null,
   "metadata": {},
   "outputs": [],
   "source": []
  }
 ],
 "metadata": {
  "kernelspec": {
   "display_name": "Python 3",
   "language": "python",
   "name": "python3"
  },
  "language_info": {
   "codemirror_mode": {
    "name": "ipython",
    "version": 3
   },
   "file_extension": ".py",
   "mimetype": "text/x-python",
   "name": "python",
   "nbconvert_exporter": "python",
   "pygments_lexer": "ipython3",
   "version": "3.8.8"
  }
 },
 "nbformat": 4,
 "nbformat_minor": 4
}
